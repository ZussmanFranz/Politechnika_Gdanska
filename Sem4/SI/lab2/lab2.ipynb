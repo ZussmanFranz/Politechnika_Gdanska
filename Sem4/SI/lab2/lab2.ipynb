{
 "cells": [
  {
   "cell_type": "code",
   "execution_count": 129,
   "metadata": {},
   "outputs": [],
   "source": [
    "from itertools import compress\n",
    "import random\n",
    "import time\n",
    "import matplotlib.pyplot as plt\n",
    "\n",
    "from data import *"
   ]
  },
  {
   "cell_type": "code",
   "execution_count": 130,
   "metadata": {},
   "outputs": [],
   "source": [
    "def initial_population(individual_size, population_size):\n",
    "    return [[random.choice([True, False]) for _ in range(individual_size)] for _ in range(population_size)]\n",
    "\n",
    "def fitness(items, knapsack_max_capacity, individual): # Po co jeszcze raz to deklarować?\n",
    "    total_weight = sum(compress(items['Weight'], individual))\n",
    "    if total_weight > knapsack_max_capacity:\n",
    "        return 0\n",
    "    return sum(compress(items['Value'], individual))\n",
    "\n",
    "def population_best(items, knapsack_max_capacity, population):\n",
    "    best_individual = None\n",
    "    best_individual_fitness = -1\n",
    "    for individual in population:\n",
    "        individual_fitness = fitness(items, knapsack_max_capacity, individual)\n",
    "        if individual_fitness > best_individual_fitness:\n",
    "            best_individual = individual\n",
    "            best_individual_fitness = individual_fitness\n",
    "    return best_individual, best_individual_fitness\n",
    "\n",
    "# My functions:\n",
    "\n",
    "## Calculates sum of fitness values in population\n",
    "def fitnesses(items, knapsack_max_capacity, population):\n",
    "    fs = []\n",
    "    for i in population:\n",
    "        fs.append(fitness(items, knapsack_max_capacity, i))\n",
    "    return fs\n",
    "\n",
    "## Array of chances of the roulette wheel selection\n",
    "def chance_distribution(fitnesses):\n",
    "    # Each individual from the population contains the starting value of it's \"chance zone\" at it's index\n",
    "    distribution = []\n",
    "    start_pos = 0\n",
    "    next = 0\n",
    "    fitness_sum = sum(fitnesses)\n",
    "\n",
    "    for i in fitnesses:\n",
    "        chance = i / fitness_sum\n",
    "        next = chance + start_pos\n",
    "        distribution.append(next)\n",
    "        start_pos = next\n",
    "\n",
    "    return distribution\n",
    "\n",
    "def choose_individual(chance, roulette):\n",
    "    index = 0\n",
    "    \n",
    "    for i in roulette:\n",
    "        if chance < i:\n",
    "            return index\n",
    "        index += 1\n",
    "\n",
    "    return len(roulette) - 1    \n",
    "    "
   ]
  },
  {
   "cell_type": "code",
   "execution_count": 131,
   "metadata": {},
   "outputs": [
    {
     "name": "stdout",
     "output_type": "stream",
     "text": [
      "               Name  Weight    Value\n",
      "0               Axe   32252    68674\n",
      "1       Bronze coin  225790   471010\n",
      "2             Crown  468164   944620\n",
      "3    Diamond statue  489494   962094\n",
      "4      Emerald belt   35384    78344\n",
      "5            Fossil  265590   579152\n",
      "6         Gold coin  497911   902698\n",
      "7            Helmet  800493  1686515\n",
      "8               Ink  823576  1688691\n",
      "9         Jewel box  552202  1056157\n",
      "10            Knife  323618   677562\n",
      "11       Long sword  382846   833132\n",
      "12             Mask   44676    99192\n",
      "13         Necklace  169738   376418\n",
      "14       Opal badge  610876  1253986\n",
      "15            Perls  854190  1853562\n",
      "16           Quiver  671123  1320297\n",
      "17        Ruby ring  698180  1301637\n",
      "18  Silver bracelet  446517   859835\n",
      "19        Timepiece  909620  1677534\n",
      "20          Uniform  904818  1910501\n",
      "21     Venom potion  730061  1528646\n",
      "22       Wool scarf  931932  1827477\n",
      "23        Cross bow  952360  2068204\n",
      "24  Yesteryear book  926023  1746556\n",
      "25         Zinc cup  978724  2100851\n"
     ]
    }
   ],
   "source": [
    "items, knapsack_max_capacity = get_big()\n",
    "print(items)"
   ]
  },
  {
   "cell_type": "code",
   "execution_count": 132,
   "metadata": {},
   "outputs": [],
   "source": [
    "population_size = 100\n",
    "generations = 200\n",
    "n_selection = 20\n",
    "n_elite = 1\n",
    "\n",
    "start_time = time.time()\n",
    "best_solution = None\n",
    "best_fitness = 0\n",
    "population_history = []\n",
    "best_history = []\n",
    "population = initial_population(len(items), population_size)"
   ]
  },
  {
   "cell_type": "code",
   "execution_count": 133,
   "metadata": {},
   "outputs": [],
   "source": [
    "for _ in range(generations):\n",
    "    population_history.append(population)\n",
    "\n",
    "    # TODO: implement genetic algorithm\n",
    "    fsum = fitnesses(items, knapsack_max_capacity, population)\n",
    "    roulette = chance_distribution(fsum) \n",
    "    # example of roulette: [0.0, 0.0, 0.04, 0.24, 0.45, 0.69, 0.81, 0.81, 0.82, 0.99, 1.0]\n",
    "\n",
    "    selected_indexes = set() # set of unique indexes\n",
    "\n",
    "    for i in range(0, n_selection):\n",
    "        index = choose_individual(random.randrange(0, 100) / 100, roulette) # index of chosen individual\n",
    "        selected_indexes.add(index)\n",
    "\n",
    "    # TODO: tworzenie dzieci\n",
    "    # TODO: mutacja \n",
    "    # TODO: aktualizacja populacji\n",
    "\n",
    "\n",
    "    best_individual, best_individual_fitness = population_best(items, knapsack_max_capacity, population)\n",
    "    if best_individual_fitness > best_fitness:\n",
    "        best_solution = best_individual\n",
    "        best_fitness = best_individual_fitness\n",
    "    best_history.append(best_fitness)"
   ]
  },
  {
   "cell_type": "code",
   "execution_count": 134,
   "metadata": {},
   "outputs": [
    {
     "name": "stdout",
     "output_type": "stream",
     "text": [
      "Best solution: ['Bronze coin', 'Crown', 'Emerald belt', 'Helmet', 'Ink', 'Long sword', 'Perls', 'Venom potion', 'Cross bow', 'Zinc cup']\n",
      "Best solution value: 13253575\n",
      "Time:  0.2467634677886963\n"
     ]
    }
   ],
   "source": [
    "end_time = time.time()\n",
    "total_time = end_time - start_time\n",
    "print('Best solution:', list(compress(items['Name'], best_solution)))\n",
    "print('Best solution value:', best_fitness)\n",
    "print('Time: ', total_time)"
   ]
  },
  {
   "cell_type": "code",
   "execution_count": 135,
   "metadata": {},
   "outputs": [
    {
     "data": {
      "image/png": "[encoded data removed]",
      "text/plain": [
       "<Figure size 640x480 with 1 Axes>"
      ]
     },
     "metadata": {},
     "output_type": "display_data"
    }
   ],
   "source": [
    "# plot generations\n",
    "x = []\n",
    "y = []\n",
    "top_best = 10\n",
    "for i, population in enumerate(population_history):\n",
    "    plotted_individuals = min(len(population), top_best)\n",
    "    x.extend([i] * plotted_individuals)\n",
    "    population_fitnesses = [fitness(items, knapsack_max_capacity, individual) for individual in population]\n",
    "    population_fitnesses.sort(reverse=True)\n",
    "    y.extend(population_fitnesses[:plotted_individuals])\n",
    "plt.scatter(x, y, marker='.')\n",
    "plt.plot(best_history, 'r')\n",
    "plt.xlabel('Generation')\n",
    "plt.ylabel('Fitness')\n",
    "plt.show()"
   ]
  }
 ],
 "metadata": {
  "kernelspec": {
   "display_name": ".venv",
   "language": "python",
   "name": "python3"
  },
  "language_info": {
   "codemirror_mode": {
    "name": "ipython",
    "version": 3
   },
   "file_extension": ".py",
   "mimetype": "text/x-python",
   "name": "python",
   "nbconvert_exporter": "python",
   "pygments_lexer": "ipython3",
   "version": "3.12.9"
  }
 },
 "nbformat": 4,
 "nbformat_minor": 2
}

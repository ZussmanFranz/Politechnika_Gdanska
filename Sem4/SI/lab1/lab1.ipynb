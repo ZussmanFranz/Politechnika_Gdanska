{
 "cells": [
  {
   "cell_type": "code",
   "execution_count": null,
   "metadata": {},
   "outputs": [],
   "source": [
    "import numpy as np\n",
    "import matplotlib.pyplot as plt\n",
    "from data import get_data, inspect_data, split_data"
   ]
  },
  {
   "cell_type": "code",
   "execution_count": 1,
   "metadata": {},
   "outputs": [
    {
     "ename": "NameError",
     "evalue": "name 'get_data' is not defined",
     "output_type": "error",
     "traceback": [
      "\u001b[31m---------------------------------------------------------------------------\u001b[39m",
      "\u001b[31mNameError\u001b[39m                                 Traceback (most recent call last)",
      "\u001b[36mCell\u001b[39m\u001b[36m \u001b[39m\u001b[32mIn[1]\u001b[39m\u001b[32m, line 1\u001b[39m\n\u001b[32m----> \u001b[39m\u001b[32m1\u001b[39m data = \u001b[43mget_data\u001b[49m()\n\u001b[32m      2\u001b[39m inspect_data(data)\n\u001b[32m      4\u001b[39m train_data, test_data = split_data(data)\n",
      "\u001b[31mNameError\u001b[39m: name 'get_data' is not defined"
     ]
    }
   ],
   "source": [
    "data = get_data()\n",
    "inspect_data(data)\n",
    "\n",
    "train_data, test_data = split_data(data)"
   ]
  },
  {
   "cell_type": "code",
   "execution_count": null,
   "metadata": {},
   "outputs": [],
   "source": [
    "# Simple Linear Regression\n",
    "# predict MPG (y, dependent variable) using Weight (x, independent variable) using closed-form solution\n",
    "# y = theta_0 + theta_1 * x - we want to find theta_0 and theta_1 parameters that minimize the prediction error\n",
    "\n",
    "# We can calculate the error using MSE metric:\n",
    "# MSE = SUM (from i=1 to n) (actual_output - predicted_output) ** 2\n",
    "\n",
    "# get the columns\n",
    "y_train = train_data['MPG'].to_numpy()\n",
    "x_train = train_data['Weight'].to_numpy()\n",
    "\n",
    "y_test = test_data['MPG'].to_numpy()\n",
    "x_test = test_data['Weight'].to_numpy()"
   ]
  },
  {
   "cell_type": "code",
   "execution_count": null,
   "metadata": {},
   "outputs": [],
   "source": [
    "# TODO: calculate closed-form solution\n",
    "x_train = x_train.reshape(-1, 1) # robi kołumnę\n",
    "X = np.hstack((np.ones((x_train.shape[0], 1)), x_train))\n",
    "y_train = y_train.reshape(-1, 1)\n",
    "# theta_best = np.linalg.inv(X.T @ X) @ (X.T @ y_train)\n",
    "theta_best = np.linalg.solve(X.T @ X, X.T @ y_train)\n",
    "# theta_best = [0, 0]\n",
    "\n",
    "y_train_pred = X @ theta_best\n",
    "\n",
    "x_test = x_test.reshape(-1, 1)\n",
    "y_test = y_test.reshape(-1, 1)\n",
    "X_test = np.hstack((np.ones((x_test.shape[0], 1)), x_test))\n",
    "y_test_pred = X_test @ theta_best"
   ]
  },
  {
   "cell_type": "code",
   "execution_count": null,
   "metadata": {},
   "outputs": [
    {
     "name": "stdout",
     "output_type": "stream",
     "text": [
      "mse_train=np.float64(19.525262560353898), mse_test=np.float64(15.338692088640196)\n"
     ]
    }
   ],
   "source": [
    "# TODO: calculate error\n",
    "def mse(y_pred, y):\n",
    "    return np.mean((y_pred - y)**2)\n",
    "\n",
    "mse_train = mse(y_train_pred, y_train)\n",
    "mse_test = mse(y_test_pred, y_test)\n",
    "\n",
    "print(f\"{mse_train=}, {mse_test=}\")\n"
   ]
  },
  {
   "cell_type": "code",
   "execution_count": null,
   "metadata": {},
   "outputs": [
    {
     "name": "stderr",
     "output_type": "stream",
     "text": [
      "/tmp/ipykernel_78792/669283611.py:3: DeprecationWarning: Conversion of an array with ndim > 0 to a scalar is deprecated, and will error in future. Ensure you extract a single element from your array before performing this operation. (Deprecated NumPy 1.25.)\n",
      "  y = float(theta_best[0]) + float(theta_best[1]) * x\n"
     ]
    },
    {
     "data": {
      "image/png": "[encoded data removed]",
      "text/plain": [
       "<Figure size 640x480 with 1 Axes>"
      ]
     },
     "metadata": {},
     "output_type": "display_data"
    }
   ],
   "source": [
    "# plot the regression line\n",
    "x = np.linspace(min(x_test), max(x_test), 100)\n",
    "y = float(theta_best[0]) + float(theta_best[1]) * x\n",
    "plt.plot(x, y)\n",
    "plt.scatter(x_test, y_test)\n",
    "plt.xlabel('Weight')\n",
    "plt.ylabel('MPG')\n",
    "plt.show()"
   ]
  },
  {
   "cell_type": "code",
   "execution_count": null,
   "metadata": {},
   "outputs": [],
   "source": [
    "# TODO: standardization\n",
    "\n",
    "xm = np.mean(X[:, 1])\n",
    "xs = np.std(X[:, 1])\n",
    "\n",
    "ym = np.mean(y_train) # średnia \n",
    "ys = np.std(y_train) # odchylenie standardowe\n",
    "\n",
    "def standardize(x, m=None, s=None):\n",
    "\n",
    "    if m is None:\n",
    "        m = np.mean(x)\n",
    "    if s is None:\n",
    "        s = np.std(x)\n",
    "\n",
    "    return (x-m)/s\n",
    "\n",
    "\n",
    "X[:, 1] = standardize(X[:, 1])\n",
    "X_test[:, 1] = standardize(X_test[:, 1])\n",
    "y_train = standardize(y_train)"
   ]
  },
  {
   "cell_type": "code",
   "execution_count": null,
   "metadata": {},
   "outputs": [
    {
     "name": "stdout",
     "output_type": "stream",
     "text": [
      "3.6638993517603256\n",
      "0.32836854843030877\n",
      "0.3279251803378499\n",
      "0.3279251214041217\n",
      "0.3279251213962881\n",
      "0.3279251213962871\n",
      "0.3279251213962871\n",
      "0.3279251213962871\n",
      "0.3279251213962871\n",
      "0.3279251213962871\n",
      "0.3279251213962871\n",
      "0.3279251213962871\n",
      "0.3279251213962871\n",
      "0.3279251213962871\n",
      "0.3279251213962871\n",
      "0.3279251213962871\n",
      "0.3279251213962871\n",
      "0.3279251213962871\n",
      "0.3279251213962871\n",
      "0.3279251213962871\n",
      "0.3279251213962871\n",
      "0.3279251213962871\n",
      "0.3279251213962871\n",
      "0.3279251213962871\n",
      "0.3279251213962871\n",
      "0.3279251213962871\n",
      "0.3279251213962871\n",
      "0.3279251213962871\n",
      "0.3279251213962871\n",
      "0.3279251213962871\n",
      "0.3279251213962871\n",
      "0.3279251213962871\n",
      "0.3279251213962871\n",
      "0.3279251213962871\n",
      "0.3279251213962871\n",
      "0.3279251213962871\n",
      "0.3279251213962871\n",
      "0.3279251213962871\n",
      "0.3279251213962871\n",
      "0.3279251213962871\n",
      "0.3279251213962871\n",
      "0.3279251213962871\n",
      "0.3279251213962871\n",
      "0.3279251213962871\n",
      "0.3279251213962871\n",
      "0.3279251213962871\n",
      "0.3279251213962871\n",
      "0.3279251213962871\n",
      "0.3279251213962871\n",
      "0.3279251213962871\n"
     ]
    }
   ],
   "source": [
    "# TODO: calculate theta using Full-Batch Gradient Descent\n",
    "\n",
    "eta = 0.1\n",
    "\n",
    "theta = np.random.randn(2, 1)\n",
    "m = X.shape[0]\n",
    "\n",
    "for epoch in range(1000):\n",
    "    y_train_pred = X @ theta\n",
    "    grad = 2/m * X.T @ (y_train_pred - y_train)\n",
    "    theta -= eta * grad\n",
    "    if epoch % 20 == 0:\n",
    "        print(mse(y_train_pred, y_train))"
   ]
  },
  {
   "cell_type": "code",
   "execution_count": null,
   "metadata": {},
   "outputs": [
    {
     "name": "stderr",
     "output_type": "stream",
     "text": [
      "/tmp/ipykernel_78792/1778609563.py:6: DeprecationWarning: Conversion of an array with ndim > 0 to a scalar is deprecated, and will error in future. Ensure you extract a single element from your array before performing this operation. (Deprecated NumPy 1.25.)\n",
      "  y_pred = float(theta[0]) + float(theta[1]) * x\n"
     ]
    },
    {
     "data": {
      "image/png": "[encoded data removed]",
      "text/plain": [
       "<Figure size 640x480 with 1 Axes>"
      ]
     },
     "metadata": {},
     "output_type": "display_data"
    }
   ],
   "source": [
    "# plot the regression line\n",
    "x = np.linspace(min(x_test), max(x_test), 100)\n",
    "#y = float(theta[0]) + float(theta[1]) * x\n",
    "\n",
    "x = standardize(x, m=xm, s=xs)\n",
    "y_pred = float(theta[0]) + float(theta[1]) * x\n",
    "\n",
    "x_test = standardize(x_test, m=xm, s=xs)\n",
    "y_test = standardize(y_test, m=ym, s=ys)\n",
    "\n",
    "plt.plot(x, y_pred)\n",
    "plt.scatter(x_test, y_test)\n",
    "plt.xlabel('Weight')\n",
    "plt.ylabel('MPG')\n",
    "plt.show()"
   ]
  },
  {
   "cell_type": "code",
   "execution_count": null,
   "metadata": {},
   "outputs": [
    {
     "name": "stdout",
     "output_type": "stream",
     "text": [
      "mse_grad_train=np.float64(0.3279251213962871), mse_grad_test=np.float64(0.2692042647048197)\n"
     ]
    }
   ],
   "source": [
    "# TODO: calculate error\n",
    "y_test_pred = X_test @ theta\n",
    "\n",
    "mse_grad_train = mse(y_train_pred, y_train)\n",
    "mse_grad_test = mse(y_test_pred, y_test)\n",
    "\n",
    "print(f\"{mse_grad_train=}, {mse_grad_test=}\")"
   ]
  },
  {
   "cell_type": "code",
   "execution_count": null,
   "metadata": {},
   "outputs": [],
   "source": [
    "# TODO: dodać jeszcze jeden czynnik (1/Waga), kolejną cechę i porównać błąd\n",
    "# Jako dodatkową cechę wezmę Acceleration\n",
    "\n",
    "# get the columns\n",
    "y_train = train_data['MPG'].to_numpy()\n",
    "x1_train = train_data['Weight'].to_numpy()\n",
    "x2_train = train_data['Acceleration'].to_numpy()\n",
    "\n",
    "y_test = test_data['MPG'].to_numpy()\n",
    "x1_test = test_data['Weight'].to_numpy()\n",
    "x2_test = test_data['Acceleration'].to_numpy()\n",
    "\n",
    "x1_train = x1_train.reshape(-1, 1)\n",
    "x2_train = x2_train.reshape(-1, 1)\n",
    "y_train = y_train.reshape(-1, 1)\n",
    "\n",
    "X = np.hstack((np.ones((x1_train.shape[0], 1)), x1_train, x2_train))\n",
    "\n",
    "y_test = y_test.reshape(-1, 1)\n",
    "x1_test = x1_test.reshape(-1, 1)\n",
    "x2_test = x2_test.reshape(-1, 1)\n",
    "\n",
    "X_test = np.hstack((np.ones((x1_test.shape[0], 1)), x1_test, x2_test))\n"
   ]
  },
  {
   "cell_type": "code",
   "execution_count": null,
   "metadata": {},
   "outputs": [],
   "source": [
    "# Standardization\n",
    "\n",
    "xm = np.mean(X[:, 1:], axis=0)\n",
    "xs = np.std(X[:, 1:], axis=0)\n",
    "\n",
    "ym = np.mean(y_train) # średnia \n",
    "ys = np.std(y_train) # odchylenie standardowe\n",
    "\n",
    "def standardize(x, m=None, s=None):\n",
    "\n",
    "    if m is None:\n",
    "        m = np.mean(x)\n",
    "    if s is None:\n",
    "        s = np.std(x)\n",
    "\n",
    "    return (x-m)/s\n",
    "\n",
    "\n",
    "X[:, 1:] = standardize(X[:, 1:])\n",
    "X_test[:, 1:] = standardize(X_test[:, 1:])\n",
    "y_train = standardize(y_train)"
   ]
  },
  {
   "cell_type": "code",
   "execution_count": null,
   "metadata": {},
   "outputs": [
    {
     "name": "stdout",
     "output_type": "stream",
     "text": [
      "0.6487901158054519\n",
      "0.37533614193221904\n",
      "0.3387699958775903\n",
      "0.3305063897506975\n",
      "0.3286388653315384\n",
      "0.3282167893182354\n",
      "0.3281213697160477\n",
      "0.3280997710893512\n",
      "0.32809485524104764\n",
      "0.3280937095287317\n",
      "0.328093415828585\n",
      "0.32809331467476377\n",
      "0.3280932570347986\n",
      "0.3280932092288904\n",
      "0.32809316364575253\n",
      "0.32809311856531287\n",
      "0.32809307359885287\n",
      "0.32809302865852613\n",
      "0.3280929837244802\n",
      "0.3280929387922287\n",
      "0.32809289386075774\n",
      "0.32809284892983825\n",
      "0.32809280399941826\n",
      "0.32809275906948626\n",
      "0.3280927141400395\n",
      "0.3280926692110774\n",
      "0.32809262428259983\n",
      "0.3280925793546067\n",
      "0.328092534427098\n",
      "0.3280924895000739\n",
      "0.3280924445735341\n",
      "0.3280923996474788\n",
      "0.32809235472190806\n",
      "0.3280923097968217\n",
      "0.3280922648722197\n",
      "0.32809221994810217\n",
      "0.32809217502446913\n",
      "0.3280921301013205\n",
      "0.3280920851786561\n",
      "0.3280920402564763\n",
      "0.3280919953347809\n",
      "0.32809195041356987\n",
      "0.32809190549284317\n",
      "0.3280918605726009\n",
      "0.328091815652843\n",
      "0.32809177073356954\n",
      "0.32809172581478036\n",
      "0.3280916808964756\n",
      "0.3280916359786552\n",
      "0.32809159106131913\n",
      "Theta after gradient:  [[ 0.68434175]\n",
      " [-1.55991849]\n",
      " [-0.82266133]]\n"
     ]
    }
   ],
   "source": [
    "# Calculate theta using Full-Batch Gradient Descent\n",
    "\n",
    "eta = 0.1\n",
    "\n",
    "theta = np.random.randn(3, 1)\n",
    "m = X.shape[0]\n",
    "\n",
    "for epoch in range(1000):\n",
    "    y_train_pred = X @ theta\n",
    "    grad = 2/m * X.T @ (y_train_pred - y_train)\n",
    "    theta -= eta * grad\n",
    "    if epoch % 20 == 0:\n",
    "        print(mse(y_train_pred, y_train))"
   ]
  },
  {
   "cell_type": "code",
   "execution_count": null,
   "metadata": {},
   "outputs": [
    {
     "name": "stdout",
     "output_type": "stream",
     "text": [
      "mse_grad_train=np.float64(0.3280915483902985), mse_grad_test=np.float64(0.26266563264947485)\n"
     ]
    }
   ],
   "source": [
    "# Calculate error\n",
    "y_test_pred = X_test @ theta\n",
    "\n",
    "mse_grad_train = mse(y_train_pred, y_train)\n",
    "mse_grad_test = mse(y_test_pred, y_test)\n",
    "\n",
    "print(f\"{mse_grad_train=}, {mse_grad_test=}\")"
   ]
  }
 ],
 "metadata": {
  "kernelspec": {
   "display_name": ".venv",
   "language": "python",
   "name": "python3"
  },
  "language_info": {
   "codemirror_mode": {
    "name": "ipython",
    "version": 3
   },
   "file_extension": ".py",
   "mimetype": "text/x-python",
   "name": "python",
   "nbconvert_exporter": "python",
   "pygments_lexer": "ipython3",
   "version": "3.12.9"
  }
 },
 "nbformat": 4,
 "nbformat_minor": 2
}

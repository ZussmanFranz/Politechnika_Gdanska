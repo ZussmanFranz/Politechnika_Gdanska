{
 "cells": [
  {
   "cell_type": "code",
   "execution_count": 15,
   "metadata": {},
   "outputs": [],
   "source": [
    "import pandas as pd\n",
    "import numpy as np\n",
    "import matplotlib.pyplot as plt "
   ]
  },
  {
   "cell_type": "code",
   "execution_count": 16,
   "metadata": {},
   "outputs": [
    {
     "name": "stdout",
     "output_type": "stream",
     "text": [
      "<bound method DataFrame.info of             time     Open     High      Low    Close      Volume\n",
      "0     2021-01-01    1.510    1.865    1.495    1.847  1125773.54\n",
      "1     2021-01-02    1.847    2.012    1.752    1.799  1060347.35\n",
      "2     2021-01-03    1.799    2.808    2.007    2.185  1475936.63\n",
      "3     2021-01-04    2.185    2.573    2.066    2.491  1543191.05\n",
      "4     2021-01-05    2.491    2.634    2.145    2.158  1246011.66\n",
      "...          ...      ...      ...      ...      ...         ...\n",
      "1363  2024-09-25  152.720  153.880  147.300  147.970  1140072.57\n",
      "1364  2024-09-26  147.970  158.030  146.590  155.580  1590861.37\n",
      "1365  2024-09-27  155.580  161.240  154.010  157.640  1503547.66\n",
      "1366  2024-09-28  157.640  159.400  155.080  156.780   576303.31\n",
      "1367  2024-09-29  156.780  160.770  155.120  160.010   741062.22\n",
      "\n",
      "[1368 rows x 6 columns]>\n"
     ]
    }
   ],
   "source": [
    "data_frame = pd.read_csv(\"Solana_daily_data_2021_2024.csv\")\n",
    "print(data_frame.info)"
   ]
  },
  {
   "cell_type": "code",
   "execution_count": 18,
   "metadata": {},
   "outputs": [
    {
     "name": "stdout",
     "output_type": "stream",
     "text": [
      "Data for the 2024 year:\n",
      "            time    Open    High     Low   Close      Volume\n",
      "1095  2024-01-01  101.73  110.25  101.48  110.02  1753352.59\n",
      "1096  2024-01-02  110.02  117.00  106.05  106.76  3028143.75\n",
      "1097  2024-01-03  106.76  109.96   84.21   98.59  4773846.78\n",
      "1098  2024-01-04   98.59  108.13   96.77  105.02  2585745.87\n",
      "1099  2024-01-05  105.02  105.48   95.40  100.01  2281511.48\n",
      "...          ...     ...     ...     ...     ...         ...\n",
      "1363  2024-09-25  152.72  153.88  147.30  147.97  1140072.57\n",
      "1364  2024-09-26  147.97  158.03  146.59  155.58  1590861.37\n",
      "1365  2024-09-27  155.58  161.24  154.01  157.64  1503547.66\n",
      "1366  2024-09-28  157.64  159.40  155.08  156.78   576303.31\n",
      "1367  2024-09-29  156.78  160.77  155.12  160.01   741062.22\n",
      "\n",
      "[273 rows x 6 columns]\n"
     ]
    }
   ],
   "source": [
    "print(\"Data for the 2024 year:\")\n",
    "print(data_frame.tail(273))"
   ]
  }
 ],
 "metadata": {
  "kernelspec": {
   "display_name": "usr",
   "language": "python",
   "name": "python3"
  },
  "language_info": {
   "codemirror_mode": {
    "name": "ipython",
    "version": 3
   },
   "file_extension": ".py",
   "mimetype": "text/x-python",
   "name": "python",
   "nbconvert_exporter": "python",
   "pygments_lexer": "ipython3",
   "version": "3.12.6"
  }
 },
 "nbformat": 4,
 "nbformat_minor": 2
}

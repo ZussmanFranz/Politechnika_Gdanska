{
 "cells": [
  {
   "cell_type": "code",
   "execution_count": 28,
   "metadata": {},
   "outputs": [],
   "source": [
    "import numpy as np\n",
    "# import matplotlib.pyplot as plt "
   ]
  },
  {
   "cell_type": "code",
   "execution_count": 29,
   "metadata": {},
   "outputs": [],
   "source": [
    "# Zadanie 1: Xn+1 = (a * Xn + c) mod M\n",
    "\n",
    "Xo = 15\n",
    "a = 69069\n",
    "c = 1\n",
    "M = 2**31\n",
    "\n",
    "n = 1000000\n",
    "N_counters = 10"
   ]
  },
  {
   "cell_type": "code",
   "execution_count": 30,
   "metadata": {},
   "outputs": [],
   "source": [
    "def generateX(Xprev):\n",
    "    global a, c, M\n",
    "    result = (Xprev * a + c) % M\n",
    "\n",
    "    # returns (number, next_element_base)\n",
    "    return (result, result)\n",
    "\n",
    "def generateNextBit(bits):\n",
    "    global p, q\n",
    "    bitp = int(bits[-p])\n",
    "    bitq = int(bits[-q])\n",
    "    return str(bitp ^ bitq)\n",
    "\n",
    "def generateBitsNumber(start_bits):\n",
    "    global size\n",
    "    str_number = start_bits\n",
    "    n_generated = len(str_number)\n",
    "\n",
    "    while n_generated < size:\n",
    "        str_number += generateNextBit(str_number)\n",
    "        n_generated += 1\n",
    "    \n",
    "    # returns (number, next_element_base)\n",
    "    return (int(str_number, 2), str_number[:len(start_bits)])\n",
    "\n",
    "def generateN(generate_func, n, start_value):\n",
    "    numbers = []\n",
    "    \n",
    "    base = start_value\n",
    "    for _ in range(0, n):\n",
    "        (val, base) = generate_func(base)\n",
    "        numbers.append(val)\n",
    "\n",
    "    return numbers\n",
    "\n",
    "def evaluateRandom(numbers, N_counters, max_val):\n",
    "    counters = np.zeros(N_counters)\n",
    "\n",
    "    counters_thresholds = np.zeros(N_counters)\n",
    "    step = max_val / N_counters\n",
    "\n",
    "    for i in range(1, N_counters + 1):\n",
    "        counters_thresholds[i - 1] = step * i\n",
    "\n",
    "    for val in numbers:\n",
    "        for counter_id in range(0, N_counters):\n",
    "            if val <= counters_thresholds[counter_id]:\n",
    "                counters[counter_id] += 1\n",
    "                break\n",
    "\n",
    "    return counters\n",
    "\n",
    "def generateBinaryNumbers(start_bits, count):\n",
    "    global q\n",
    "    binary_numbers = []\n",
    "    current_bits = start_bits\n",
    "    \n",
    "    for _ in range(count):\n",
    "        binary_numbers.append(int(current_bits, 2))\n",
    "        next_bits = ''\n",
    "        for _ in range(len(current_bits)):\n",
    "            next_bits += generateNextBit(current_bits)\n",
    "            current_bits = current_bits[1:] + next_bits[-1]\n",
    "        current_bits = current_bits[-q:]\n",
    "    \n",
    "    return binary_numbers"
   ]
  },
  {
   "cell_type": "code",
   "execution_count": 31,
   "metadata": {},
   "outputs": [
    {
     "name": "stdout",
     "output_type": "stream",
     "text": [
      "[ 99993. 100156.  99901.  99724.  99765.  99556. 100130. 100105. 100119.\n",
      " 100551.]\n"
     ]
    }
   ],
   "source": [
    "# Generujemy n liczb, potem badamy rownomiernosc przez podzial zakresu (0:M-1) na N_licznikow i liczymy, do ktorego przedzialu nalezy liczba \n",
    "\n",
    "numbers = generateN(generateX, n, Xo)\n",
    "countersX = evaluateRandom(numbers, N_counters, M)\n",
    "print(countersX)"
   ]
  },
  {
   "cell_type": "code",
   "execution_count": null,
   "metadata": {},
   "outputs": [],
   "source": [
    "# Zadanie 2: bi = bi-p xor bi-q\n",
    "\n",
    "start_bits = '1101101'\n",
    "p = 7\n",
    "q = 3\n",
    "size = 31\n",
    "\n",
    "numbers = generateN(generateBitsNumber, n, start_bits)\n",
    "countersB = evaluateRandom(numbers, N_counters, 2**size)\n",
    "print(numbers)\n",
    "print(countersB)"
   ]
  }
 ],
 "metadata": {
  "kernelspec": {
   "display_name": ".venv",
   "language": "python",
   "name": "python3"
  },
  "language_info": {
   "codemirror_mode": {
    "name": "ipython",
    "version": 3
   },
   "file_extension": ".py",
   "mimetype": "text/x-python",
   "name": "python",
   "nbconvert_exporter": "python",
   "pygments_lexer": "ipython3",
   "version": "3.12.9"
  },
  "orig_nbformat": 4
 },
 "nbformat": 4,
 "nbformat_minor": 2
}

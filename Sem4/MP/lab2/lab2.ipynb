{
 "cells": [
  {
   "cell_type": "code",
   "execution_count": 1,
   "metadata": {},
   "outputs": [],
   "source": [
    "import numpy as np\n",
    "# import matplotlib.pyplot as plt "
   ]
  },
  {
   "cell_type": "code",
   "execution_count": 2,
   "metadata": {},
   "outputs": [],
   "source": [
    "# Zadanie 1: Xn+1 = (a * Xn + c) mod M\n",
    "\n",
    "Xo = 15\n",
    "a = 69069\n",
    "c = 1\n",
    "M = 2**31\n",
    "\n",
    "n = 1000000\n",
    "N_counters = 10"
   ]
  },
  {
   "cell_type": "code",
   "execution_count": 3,
   "metadata": {},
   "outputs": [],
   "source": [
    "def generateX(Xprev):\n",
    "    global a, c, M\n",
    "    return ((Xprev * a + c) % M)\n",
    "\n",
    "def generateNextBit(bits):\n",
    "    global p, q\n",
    "    bitp = int(bits[-p])\n",
    "    bitq = int(bits[-q])\n",
    "    return str(bitp ^ bitq)\n",
    "\n",
    "def generateBitsNumber(start_bits):\n",
    "    global size\n",
    "    str_number = start_bits\n",
    "    n_generated = len(str_number)\n",
    "    while (n_generated < size):\n",
    "        str_number += generateNextBit(str_number)\n",
    "        n_generated += 1\n",
    "    return int(str_number, 2)\n",
    "    \n",
    "\n",
    "def generateN(generate_func, n, start_value):\n",
    "    numbers = []\n",
    "    \n",
    "    val = start_value\n",
    "    for i in range(0, n):\n",
    "        val = generate_func(val)\n",
    "        numbers.append(val)\n",
    "\n",
    "    return numbers\n",
    "\n",
    "def evaluateRandom(numbers, N_counters, max_val):\n",
    "    counters = np.zeros(N_counters)\n",
    "\n",
    "    counters_thresholds = np.zeros(N_counters)\n",
    "    step = max_val / N_counters\n",
    "\n",
    "    for i in range(1, N_counters + 1):\n",
    "        counters_thresholds[i - 1] = step * i\n",
    "\n",
    "    for val in numbers:\n",
    "        for counter_id in range(0, N_counters):\n",
    "            if val <= counters_thresholds[counter_id]:\n",
    "                counters[counter_id] += 1\n",
    "                break\n",
    "\n",
    "    return counters\n"
   ]
  },
  {
   "cell_type": "code",
   "execution_count": 4,
   "metadata": {},
   "outputs": [
    {
     "name": "stdout",
     "output_type": "stream",
     "text": [
      "[ 99993. 100156.  99901.  99724.  99765.  99556. 100130. 100105. 100119.\n",
      " 100551.]\n"
     ]
    }
   ],
   "source": [
    "# Generujemy n liczb, potem badamy rownomiernosc przez podzial zakresu (0:M-1) na N_licznikow i liczymy, do ktorego przedzialu nalezy liczba \n",
    "\n",
    "numbers = generateN(generateX, n, Xo)\n",
    "countersX = evaluateRandom(numbers, N_counters, M)\n",
    "print(countersX)"
   ]
  },
  {
   "cell_type": "code",
   "execution_count": 5,
   "metadata": {},
   "outputs": [
    {
     "ename": "TypeError",
     "evalue": "'int' object is not iterable",
     "output_type": "error",
     "traceback": [
      "\u001b[31m---------------------------------------------------------------------------\u001b[39m",
      "\u001b[31mTypeError\u001b[39m                                 Traceback (most recent call last)",
      "\u001b[36mCell\u001b[39m\u001b[36m \u001b[39m\u001b[32mIn[5]\u001b[39m\u001b[32m, line 9\u001b[39m\n\u001b[32m      6\u001b[39m size = \u001b[32m31\u001b[39m\n\u001b[32m      8\u001b[39m numbers = generateBitsNumber(start_bits)\n\u001b[32m----> \u001b[39m\u001b[32m9\u001b[39m countersB = \u001b[43mevaluateRandom\u001b[49m\u001b[43m(\u001b[49m\u001b[43mnumbers\u001b[49m\u001b[43m,\u001b[49m\u001b[43m \u001b[49m\u001b[43mN_counters\u001b[49m\u001b[43m,\u001b[49m\u001b[43m \u001b[49m\u001b[32;43m2\u001b[39;49m\u001b[43m*\u001b[49m\u001b[43m*\u001b[49m\u001b[43msize\u001b[49m\u001b[43m)\u001b[49m\n\u001b[32m     10\u001b[39m \u001b[38;5;28mprint\u001b[39m(countersB)\n",
      "\u001b[36mCell\u001b[39m\u001b[36m \u001b[39m\u001b[32mIn[3]\u001b[39m\u001b[32m, line 40\u001b[39m, in \u001b[36mevaluateRandom\u001b[39m\u001b[34m(numbers, N_counters, max_val)\u001b[39m\n\u001b[32m     37\u001b[39m \u001b[38;5;28;01mfor\u001b[39;00m i \u001b[38;5;129;01min\u001b[39;00m \u001b[38;5;28mrange\u001b[39m(\u001b[32m1\u001b[39m, N_counters + \u001b[32m1\u001b[39m):\n\u001b[32m     38\u001b[39m     counters_thresholds[i - \u001b[32m1\u001b[39m] = step * i\n\u001b[32m---> \u001b[39m\u001b[32m40\u001b[39m \u001b[43m\u001b[49m\u001b[38;5;28;43;01mfor\u001b[39;49;00m\u001b[43m \u001b[49m\u001b[43mval\u001b[49m\u001b[43m \u001b[49m\u001b[38;5;129;43;01min\u001b[39;49;00m\u001b[43m \u001b[49m\u001b[43mnumbers\u001b[49m\u001b[43m:\u001b[49m\n\u001b[32m     41\u001b[39m \u001b[43m    \u001b[49m\u001b[38;5;28;43;01mfor\u001b[39;49;00m\u001b[43m \u001b[49m\u001b[43mcounter_id\u001b[49m\u001b[43m \u001b[49m\u001b[38;5;129;43;01min\u001b[39;49;00m\u001b[43m \u001b[49m\u001b[38;5;28;43mrange\u001b[39;49m\u001b[43m(\u001b[49m\u001b[32;43m0\u001b[39;49m\u001b[43m,\u001b[49m\u001b[43m \u001b[49m\u001b[43mN_counters\u001b[49m\u001b[43m)\u001b[49m\u001b[43m:\u001b[49m\n\u001b[32m     42\u001b[39m \u001b[43m        \u001b[49m\u001b[38;5;28;43;01mif\u001b[39;49;00m\u001b[43m \u001b[49m\u001b[43mval\u001b[49m\u001b[43m \u001b[49m\u001b[43m<\u001b[49m\u001b[43m=\u001b[49m\u001b[43m \u001b[49m\u001b[43mcounters_thresholds\u001b[49m\u001b[43m[\u001b[49m\u001b[43mcounter_id\u001b[49m\u001b[43m]\u001b[49m\u001b[43m:\u001b[49m\n",
      "\u001b[31mTypeError\u001b[39m: 'int' object is not iterable"
     ]
    }
   ],
   "source": [
    "# Zadanie 2: bi = bi-p xor bi-q\n",
    "\n",
    "start_bits = '1101101'\n",
    "p = 7\n",
    "q = 3\n",
    "size = 31\n",
    "\n",
    "numbers = generateBitsNumber(start_bits)\n",
    "countersB = evaluateRandom(numbers, N_counters, 2**size)\n",
    "print(countersB)"
   ]
  }
 ],
 "metadata": {
  "kernelspec": {
   "display_name": ".venv",
   "language": "python",
   "name": "python3"
  },
  "language_info": {
   "codemirror_mode": {
    "name": "ipython",
    "version": 3
   },
   "file_extension": ".py",
   "mimetype": "text/x-python",
   "name": "python",
   "nbconvert_exporter": "python",
   "pygments_lexer": "ipython3",
   "version": "3.12.9"
  },
  "orig_nbformat": 4
 },
 "nbformat": 4,
 "nbformat_minor": 2
}

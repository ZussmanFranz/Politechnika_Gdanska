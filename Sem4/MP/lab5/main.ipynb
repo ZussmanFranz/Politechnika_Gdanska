{
 "cells": [
  {
   "cell_type": "code",
   "execution_count": 24,
   "id": "20a3328c",
   "metadata": {},
   "outputs": [],
   "source": [
    "import numpy as np\n",
    "import pandas as pd"
   ]
  },
  {
   "cell_type": "markdown",
   "id": "e4593d9d",
   "metadata": {},
   "source": [
    "# Badanie statystyki wzrostowej"
   ]
  },
  {
   "cell_type": "code",
   "execution_count": 25,
   "id": "6fbd9cc4",
   "metadata": {},
   "outputs": [
    {
     "name": "stdout",
     "output_type": "stream",
     "text": [
      "0     1.019774\n",
      "1     2.223508\n",
      "2     0.488473\n",
      "3     1.747749\n",
      "4     0.403842\n",
      "        ...   \n",
      "95    0.352159\n",
      "96    2.474429\n",
      "97    0.030192\n",
      "98    0.011813\n",
      "99    0.183893\n",
      "Name: height, Length: 100, dtype: float64\n",
      "      height\n",
      "0   1.019774\n",
      "1   2.223508\n",
      "2   0.488473\n",
      "3   1.747749\n",
      "4   0.403842\n",
      "..       ...\n",
      "95  0.352159\n",
      "96  2.474429\n",
      "97  0.030192\n",
      "98  0.011813\n",
      "99  0.183893\n",
      "\n",
      "[100 rows x 1 columns]\n"
     ]
    }
   ],
   "source": [
    "filepath = \"data.csv\"\n",
    "data = pd.read_csv(filepath)\n",
    "\n",
    "values = data.get(\"height\")\n",
    "\n",
    "print(values)\n",
    "print(data)"
   ]
  },
  {
   "cell_type": "code",
   "execution_count": 26,
   "id": "e8195d4a",
   "metadata": {},
   "outputs": [
    {
     "name": "stdout",
     "output_type": "stream",
     "text": [
      "1.06868444439\n",
      "0    -0.048910\n",
      "1     1.154823\n",
      "2    -0.580212\n",
      "3     0.679065\n",
      "4    -0.664842\n",
      "        ...   \n",
      "95   -0.716526\n",
      "96    1.405744\n",
      "97   -1.038493\n",
      "98   -1.056872\n",
      "99   -0.884791\n",
      "Name: height, Length: 100, dtype: float64\n",
      "Mean divergence: 0.7479377608236001\n",
      "Standard divergence: 1.0307124614544914\n"
     ]
    }
   ],
   "source": [
    "mean_val = np.mean(values)\n",
    "divergences = values - mean_val # ?\n",
    "\n",
    "mean_divergence = np.mean(abs(divergences)) # ?\n",
    "standard_divergence = np.sqrt(np.mean(divergences**2))\n",
    "\n",
    "print(mean_val)\n",
    "print(divergences)\n",
    "print(f'Mean divergence: {mean_divergence}')\n",
    "print(f'Standard divergence: {standard_divergence}')"
   ]
  },
  {
   "cell_type": "code",
   "execution_count": null,
   "id": "708b81b3",
   "metadata": {},
   "outputs": [
    {
     "name": "stdout",
     "output_type": "stream",
     "text": [
      "      height  divergence  absolute_divergence  square_divergence  \\\n",
      "0   1.019774   -0.048910             0.048910           0.002392   \n",
      "1   2.223508    1.154823             1.154823           1.333617   \n",
      "2   0.488473   -0.580212             0.580212           0.336646   \n",
      "3   1.747749    0.679065             0.679065           0.461129   \n",
      "4   0.403842   -0.664842             0.664842           0.442015   \n",
      "..       ...         ...                  ...                ...   \n",
      "95  0.352159   -0.716526             0.716526           0.513409   \n",
      "96  2.474429    1.405744             1.405744           1.976117   \n",
      "97  0.030192   -1.038493             1.038493           1.078467   \n",
      "98  0.011813   -1.056872             1.056872           1.116978   \n",
      "99  0.183893   -0.884791             0.884791           0.782856   \n",
      "\n",
      "    mean_divergence  standard_divergence  \n",
      "0          0.747938             1.030712  \n",
      "1          0.747938             1.030712  \n",
      "2          0.747938             1.030712  \n",
      "3          0.747938             1.030712  \n",
      "4          0.747938             1.030712  \n",
      "..              ...                  ...  \n",
      "95         0.747938             1.030712  \n",
      "96         0.747938             1.030712  \n",
      "97         0.747938             1.030712  \n",
      "98         0.747938             1.030712  \n",
      "99         0.747938             1.030712  \n",
      "\n",
      "[100 rows x 6 columns]\n"
     ]
    }
   ],
   "source": [
    "new_dataframe = pd.DataFrame({\"divergence\" : divergences,\n",
    "                              \"absolute_divergence\" : abs(divergences),\n",
    "                              \"square_divergence\" : (divergences**2),\n",
    "                              \"mean_divergence\": mean_divergence,\n",
    "                              \"standard_divergence\": standard_divergence})\n",
    "\n",
    "# print(new_dataframe)\n",
    "\n",
    "data = data.join(new_dataframe)\n",
    "\n",
    "print(data)"
   ]
  },
  {
   "cell_type": "code",
   "execution_count": 30,
   "id": "18ee55f2",
   "metadata": {},
   "outputs": [],
   "source": [
    "file_to_save = 'solved.csv'\n",
    "data.to_csv(file_to_save, index=False)"
   ]
  }
 ],
 "metadata": {
  "kernelspec": {
   "display_name": ".venv",
   "language": "python",
   "name": "python3"
  },
  "language_info": {
   "codemirror_mode": {
    "name": "ipython",
    "version": 3
   },
   "file_extension": ".py",
   "mimetype": "text/x-python",
   "name": "python",
   "nbconvert_exporter": "python",
   "pygments_lexer": "ipython3",
   "version": "3.12.9"
  }
 },
 "nbformat": 4,
 "nbformat_minor": 5
}
